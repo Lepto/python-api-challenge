{
 "cells": [
  {
   "cell_type": "markdown",
   "metadata": {},
   "source": [
    "# WeatherPy\n",
    "----\n",
    "\n",
    "#### Note\n",
    "* Instructions have been included for each segment. You do not have to follow them exactly, but they are included to help you think through the steps."
   ]
  },
  {
   "cell_type": "code",
   "execution_count": 1,
   "metadata": {
    "scrolled": true
   },
   "outputs": [],
   "source": [
    "# Dependencies and Setup\n",
    "import matplotlib.pyplot as plt\n",
    "import pandas as pd\n",
    "import numpy as np\n",
    "import requests\n",
    "import time\n",
    "from scipy.stats import linregress\n",
    "\n",
    "# Import API key\n",
    "from api_keys import weather_api_key\n",
    "\n",
    "# Incorporated citipy to determine city based on latitude and longitude\n",
    "from citipy import citipy\n",
    "\n",
    "# Range of latitudes and longitudes\n",
    "lat_range = (-90, 90)\n",
    "lng_range = (-180, 180)"
   ]
  },
  {
   "cell_type": "markdown",
   "metadata": {},
   "source": [
    "## Generate Cities List"
   ]
  },
  {
   "cell_type": "code",
   "execution_count": 2,
   "metadata": {},
   "outputs": [
    {
     "data": {
      "text/plain": [
       "607"
      ]
     },
     "execution_count": 2,
     "metadata": {},
     "output_type": "execute_result"
    }
   ],
   "source": [
    "# List for holding lat_lngs and cities\n",
    "lat_lngs = []\n",
    "cities = []\n",
    "\n",
    "# Create a set of random lat and lng combinations\n",
    "lats = np.random.uniform(lat_range[0], lat_range[1], size=1500)\n",
    "lngs = np.random.uniform(lng_range[0], lng_range[1], size=1500)\n",
    "\n",
    "# Zip to join two tuples together\n",
    "lat_lngs = zip(lats, lngs)\n",
    "\n",
    "# Identify nearest city for each lat, lng combination\n",
    "for lat_lng in lat_lngs:\n",
    "    city = citipy.nearest_city(lat_lng[0], lat_lng[1]).city_name\n",
    "    \n",
    "    # If the city is unique, then add it to a our cities list\n",
    "    if city not in cities:\n",
    "        cities.append(city)\n",
    "\n",
    "# Print the city count to confirm sufficient count\n",
    "len(cities)\n"
   ]
  },
  {
   "cell_type": "code",
   "execution_count": 3,
   "metadata": {},
   "outputs": [],
   "source": [
    "# Creating empty lists for the following:\n",
    "\n",
    "CityName = []\n",
    "Latitude = []\n",
    "Longitude = []\n",
    "HighTemp = []\n",
    "Humidity = []\n",
    "Cloudiness = []\n",
    "WindSpeed = []\n",
    "CountryCode = []\n",
    "Date = []"
   ]
  },
  {
   "cell_type": "markdown",
   "metadata": {},
   "source": [
    "### Perform API Calls\n",
    "* Perform a weather check on each city using a series of successive API calls.\n",
    "* Include a print log of each city as it'sbeing processed (with the city number and city name).\n"
   ]
  },
  {
   "cell_type": "code",
   "execution_count": 4,
   "metadata": {},
   "outputs": [],
   "source": [
    "# URL to call API from Open Weather Map\n",
    "weather_url = 'http://api.openweathermap.org/data/2.5/weather?'\n",
    "\n",
    "# Setting units to metric\n",
    "units = 'Imperial'\n",
    "\n",
    "# Setting up variable for url for query\n",
    "url = f'{weather_url}appid={weather_api_key}&units={units}&q='\n"
   ]
  },
  {
   "cell_type": "code",
   "execution_count": 5,
   "metadata": {},
   "outputs": [
    {
     "name": "stdout",
     "output_type": "stream",
     "text": [
      "-------------------------------------------------\n",
      "Begin Data Retrieval\n",
      "-------------------------------------------------\n",
      "\n",
      "Processing Record: 1 of Set 1 | punta arenas\n",
      "City not found.  Checking for next available city\n",
      "Processing Record: 2 of Set 1 | ust-koksa\n",
      "Processing Record: 3 of Set 1 | port elizabeth\n",
      "Processing Record: 4 of Set 1 | butaritari\n",
      "Processing Record: 5 of Set 1 | hilo\n",
      "Processing Record: 6 of Set 1 | tarrafal\n",
      "Processing Record: 7 of Set 1 | bredasdorp\n",
      "Processing Record: 8 of Set 1 | barbacena\n",
      "Processing Record: 9 of Set 1 | rikitea\n",
      "Processing Record: 10 of Set 1 | port macquarie\n",
      "Processing Record: 11 of Set 1 | ushuaia\n",
      "Processing Record: 12 of Set 1 | sinnamary\n",
      "Processing Record: 13 of Set 1 | muros\n",
      "Processing Record: 14 of Set 1 | caravelas\n",
      "Processing Record: 15 of Set 1 | margate\n",
      "Processing Record: 16 of Set 1 | killybegs\n",
      "Processing Record: 17 of Set 1 | hobart\n",
      "Processing Record: 18 of Set 1 | jamestown\n",
      "Processing Record: 19 of Set 1 | berezovyy\n",
      "City not found.  Checking for next available city\n",
      "Processing Record: 20 of Set 1 | nikolskoye\n",
      "Processing Record: 21 of Set 1 | prado\n",
      "Processing Record: 22 of Set 1 | chernyshevskiy\n",
      "Processing Record: 23 of Set 1 | fredericton\n",
      "Processing Record: 24 of Set 1 | warrnambool\n",
      "Processing Record: 25 of Set 1 | busselton\n",
      "Processing Record: 26 of Set 1 | luderitz\n",
      "Processing Record: 27 of Set 1 | carnarvon\n",
      "Processing Record: 28 of Set 1 | inverell\n",
      "Processing Record: 29 of Set 1 | ilam\n",
      "Processing Record: 30 of Set 1 | port lincoln\n",
      "Processing Record: 31 of Set 1 | mataura\n",
      "Processing Record: 32 of Set 1 | aripuana\n",
      "Processing Record: 33 of Set 1 | bosaso\n",
      "Processing Record: 34 of Set 1 | beloha\n",
      "Processing Record: 35 of Set 1 | unai\n",
      "Processing Record: 36 of Set 1 | klaksvik\n",
      "Processing Record: 37 of Set 1 | fortuna\n",
      "Processing Record: 38 of Set 1 | adrar\n",
      "City not found.  Checking for next available city\n",
      "Processing Record: 39 of Set 1 | roebourne\n",
      "Processing Record: 40 of Set 1 | east london\n",
      "Processing Record: 41 of Set 1 | wanning\n",
      "Processing Record: 42 of Set 1 | nome\n",
      "City not found.  Checking for next available city\n",
      "Processing Record: 43 of Set 1 | colares\n",
      "Processing Record: 44 of Set 1 | brae\n",
      "Processing Record: 45 of Set 1 | severo-kurilsk\n",
      "Processing Record: 46 of Set 1 | vieques\n",
      "Processing Record: 47 of Set 1 | victoria\n",
      "Processing Record: 48 of Set 1 | cape town\n",
      "Processing Record: 49 of Set 1 | san juan\n",
      "Processing Record: 50 of Set 1 | iqaluit\n",
      "Processing Record: 2 of Set 2 | navahrudak\n",
      "City not found.  Checking for next available city\n",
      "Processing Record: 3 of Set 2 | mount gambier\n",
      "Processing Record: 4 of Set 2 | ladispoli\n",
      "Processing Record: 5 of Set 2 | sitka\n",
      "Processing Record: 6 of Set 2 | upernavik\n",
      "Processing Record: 7 of Set 2 | albany\n",
      "Processing Record: 8 of Set 2 | kodiak\n",
      "Processing Record: 9 of Set 2 | bathsheba\n",
      "Processing Record: 10 of Set 2 | bambous virieux\n",
      "Processing Record: 11 of Set 2 | jumla\n",
      "Processing Record: 12 of Set 2 | heze\n",
      "Processing Record: 13 of Set 2 | san joaquin\n",
      "Processing Record: 14 of Set 2 | avarua\n",
      "Processing Record: 15 of Set 2 | saint george\n",
      "Processing Record: 16 of Set 2 | saint-philippe\n",
      "Processing Record: 17 of Set 2 | arraial do cabo\n",
      "Processing Record: 18 of Set 2 | woodstock\n",
      "City not found.  Checking for next available city\n",
      "Processing Record: 19 of Set 2 | ribeira grande\n",
      "Processing Record: 20 of Set 2 | lorengau\n",
      "Processing Record: 21 of Set 2 | pevek\n",
      "Processing Record: 22 of Set 2 | kavaratti\n",
      "Processing Record: 23 of Set 2 | cabo san lucas\n",
      "Processing Record: 24 of Set 2 | talnakh\n",
      "City not found.  Checking for next available city\n",
      "Processing Record: 25 of Set 2 | torbay\n",
      "Processing Record: 26 of Set 2 | puri\n",
      "Processing Record: 27 of Set 2 | vaini\n",
      "Processing Record: 28 of Set 2 | santa rita\n",
      "Processing Record: 29 of Set 2 | hualmay\n",
      "Processing Record: 30 of Set 2 | te anau\n",
      "Processing Record: 31 of Set 2 | bani walid\n",
      "Processing Record: 32 of Set 2 | victor harbor\n",
      "Processing Record: 33 of Set 2 | itoman\n",
      "Processing Record: 34 of Set 2 | codrington\n",
      "Processing Record: 35 of Set 2 | carutapera\n",
      "City not found.  Checking for next available city\n",
      "Processing Record: 36 of Set 2 | cayenne\n",
      "Processing Record: 37 of Set 2 | gamba\n",
      "Processing Record: 38 of Set 2 | port alfred\n",
      "Processing Record: 39 of Set 2 | katsuura\n",
      "Processing Record: 40 of Set 2 | houma\n",
      "Processing Record: 41 of Set 2 | hermanus\n",
      "Processing Record: 42 of Set 2 | afsin\n",
      "City not found.  Checking for next available city\n",
      "Processing Record: 43 of Set 2 | jacksonville\n",
      "Processing Record: 44 of Set 2 | chuy\n",
      "Processing Record: 45 of Set 2 | harper\n",
      "Processing Record: 46 of Set 2 | vila franca do campo\n",
      "Processing Record: 47 of Set 2 | svetlogorsk\n",
      "Processing Record: 48 of Set 2 | lashio\n",
      "Processing Record: 49 of Set 2 | tuktoyaktuk\n",
      "Processing Record: 50 of Set 2 | bluff\n",
      "Processing Record: 2 of Set 3 | ilulissat\n",
      "Processing Record: 3 of Set 3 | cidreira\n",
      "Processing Record: 4 of Set 3 | narsaq\n",
      "Processing Record: 5 of Set 3 | payakumbuh\n",
      "Processing Record: 6 of Set 3 | mongo\n",
      "Processing Record: 7 of Set 3 | saldanha\n",
      "Processing Record: 8 of Set 3 | port hardy\n",
      "Processing Record: 9 of Set 3 | awbari\n",
      "Processing Record: 10 of Set 3 | meulaboh\n",
      "Processing Record: 11 of Set 3 | hithadhoo\n",
      "City not found.  Checking for next available city\n",
      "City not found.  Checking for next available city\n",
      "Processing Record: 12 of Set 3 | alexandria\n",
      "Processing Record: 13 of Set 3 | manjacaze\n",
      "Processing Record: 14 of Set 3 | columbia\n",
      "Processing Record: 15 of Set 3 | alyangula\n",
      "Processing Record: 16 of Set 3 | south river\n",
      "Processing Record: 17 of Set 3 | qaanaaq\n",
      "Processing Record: 18 of Set 3 | yarim\n",
      "Processing Record: 19 of Set 3 | zdvinsk\n",
      "Processing Record: 20 of Set 3 | bilibino\n",
      "Processing Record: 21 of Set 3 | beringovskiy\n",
      "Processing Record: 22 of Set 3 | yellowknife\n",
      "Processing Record: 23 of Set 3 | sembakung\n",
      "Processing Record: 24 of Set 3 | kuah\n",
      "Processing Record: 25 of Set 3 | novyy nekouz\n",
      "Processing Record: 26 of Set 3 | kavieng\n",
      "Processing Record: 27 of Set 3 | barrow\n",
      "Processing Record: 28 of Set 3 | puerto ayora\n",
      "Processing Record: 29 of Set 3 | hofn\n",
      "Processing Record: 30 of Set 3 | sisimiut\n",
      "Processing Record: 31 of Set 3 | ponta do sol\n",
      "Processing Record: 32 of Set 3 | bengkulu\n",
      "Processing Record: 33 of Set 3 | vardo\n",
      "Processing Record: 34 of Set 3 | nabire\n",
      "Processing Record: 35 of Set 3 | ilo\n",
      "City not found.  Checking for next available city\n",
      "City not found.  Checking for next available city\n",
      "Processing Record: 36 of Set 3 | touros\n",
      "Processing Record: 37 of Set 3 | johi\n",
      "Processing Record: 38 of Set 3 | kropotkin\n",
      "Processing Record: 39 of Set 3 | luanda\n",
      "Processing Record: 40 of Set 3 | atuona\n",
      "Processing Record: 41 of Set 3 | geraldton\n",
      "Processing Record: 42 of Set 3 | oyama\n",
      "Processing Record: 43 of Set 3 | fukue\n",
      "Processing Record: 44 of Set 3 | dabat\n",
      "Processing Record: 45 of Set 3 | tual\n",
      "Processing Record: 46 of Set 3 | west bay\n",
      "Processing Record: 47 of Set 3 | new norfolk\n",
      "Processing Record: 48 of Set 3 | vila velha\n",
      "Processing Record: 49 of Set 3 | sorland\n",
      "Processing Record: 50 of Set 3 | kruisfontein\n",
      "Processing Record: 2 of Set 4 | kaitangata\n",
      "Processing Record: 3 of Set 4 | bethel\n",
      "Processing Record: 4 of Set 4 | diebougou\n",
      "Processing Record: 5 of Set 4 | kapaa\n",
      "Processing Record: 6 of Set 4 | chokurdakh\n",
      "Processing Record: 7 of Set 4 | kizhinga\n",
      "Processing Record: 8 of Set 4 | khatanga\n",
      "Processing Record: 9 of Set 4 | oktyabrskoye\n",
      "City not found.  Checking for next available city\n",
      "Processing Record: 10 of Set 4 | talaya\n",
      "Processing Record: 11 of Set 4 | lagoa\n",
      "City not found.  Checking for next available city\n",
      "City not found.  Checking for next available city\n",
      "Processing Record: 12 of Set 4 | saskylakh\n",
      "City not found.  Checking for next available city\n",
      "Processing Record: 13 of Set 4 | tsabong\n",
      "Processing Record: 14 of Set 4 | aswan\n",
      "Processing Record: 15 of Set 4 | wum\n",
      "City not found.  Checking for next available city\n",
      "Processing Record: 16 of Set 4 | shimoda\n",
      "City not found.  Checking for next available city\n",
      "Processing Record: 17 of Set 4 | provideniya\n",
      "Processing Record: 18 of Set 4 | severobaykalsk\n",
      "Processing Record: 19 of Set 4 | uddevalla\n",
      "Processing Record: 20 of Set 4 | nanortalik\n",
      "Processing Record: 21 of Set 4 | srednekolymsk\n",
      "Processing Record: 22 of Set 4 | da lat\n",
      "Processing Record: 23 of Set 4 | alice springs\n"
     ]
    },
    {
     "name": "stdout",
     "output_type": "stream",
     "text": [
      "Processing Record: 24 of Set 4 | kem\n",
      "Processing Record: 25 of Set 4 | erenhot\n",
      "Processing Record: 26 of Set 4 | abha\n",
      "Processing Record: 27 of Set 4 | mingaora\n",
      "Processing Record: 28 of Set 4 | salalah\n",
      "Processing Record: 29 of Set 4 | taoudenni\n",
      "Processing Record: 30 of Set 4 | tasiilaq\n",
      "Processing Record: 31 of Set 4 | tiksi\n",
      "Processing Record: 32 of Set 4 | granada\n",
      "Processing Record: 33 of Set 4 | sabha\n",
      "City not found.  Checking for next available city\n",
      "Processing Record: 34 of Set 4 | southbridge\n",
      "Processing Record: 35 of Set 4 | kologriv\n",
      "Processing Record: 36 of Set 4 | vanimo\n",
      "Processing Record: 37 of Set 4 | marzuq\n",
      "Processing Record: 38 of Set 4 | olga\n",
      "Processing Record: 39 of Set 4 | kosonsoy\n",
      "Processing Record: 40 of Set 4 | araouane\n",
      "Processing Record: 41 of Set 4 | dikson\n",
      "Processing Record: 42 of Set 4 | salinas\n",
      "Processing Record: 43 of Set 4 | pisco\n",
      "Processing Record: 44 of Set 4 | ardesen\n",
      "Processing Record: 45 of Set 4 | kismayo\n",
      "Processing Record: 46 of Set 4 | port-gentil\n",
      "Processing Record: 47 of Set 4 | porto-vecchio\n",
      "Processing Record: 48 of Set 4 | manicore\n",
      "Processing Record: 49 of Set 4 | avera\n",
      "Processing Record: 50 of Set 4 | manta\n",
      "Processing Record: 2 of Set 5 | alto araguaia\n",
      "Processing Record: 3 of Set 5 | ostrovnoy\n",
      "Processing Record: 4 of Set 5 | tubmanburg\n",
      "Processing Record: 5 of Set 5 | luau\n",
      "City not found.  Checking for next available city\n",
      "City not found.  Checking for next available city\n",
      "Processing Record: 6 of Set 5 | raglan\n",
      "Processing Record: 7 of Set 5 | piet retief\n",
      "Processing Record: 8 of Set 5 | guerrero negro\n",
      "Processing Record: 9 of Set 5 | san ramon\n",
      "Processing Record: 10 of Set 5 | yulara\n",
      "Processing Record: 11 of Set 5 | karachi\n",
      "Processing Record: 12 of Set 5 | haines junction\n",
      "Processing Record: 13 of Set 5 | mount isa\n",
      "Processing Record: 14 of Set 5 | mahebourg\n",
      "Processing Record: 15 of Set 5 | urucara\n",
      "Processing Record: 16 of Set 5 | tilichiki\n",
      "Processing Record: 17 of Set 5 | morondava\n",
      "City not found.  Checking for next available city\n",
      "Processing Record: 18 of Set 5 | domoni\n",
      "Processing Record: 19 of Set 5 | lakes entrance\n",
      "Processing Record: 20 of Set 5 | airai\n",
      "Processing Record: 21 of Set 5 | peleduy\n",
      "Processing Record: 22 of Set 5 | cherskiy\n",
      "Processing Record: 23 of Set 5 | eyl\n",
      "City not found.  Checking for next available city\n",
      "Processing Record: 24 of Set 5 | quatre cocos\n",
      "Processing Record: 25 of Set 5 | novobirilyussy\n",
      "Processing Record: 26 of Set 5 | baoqing\n",
      "Processing Record: 27 of Set 5 | taltal\n",
      "Processing Record: 28 of Set 5 | clyde river\n",
      "Processing Record: 29 of Set 5 | asheboro\n",
      "City not found.  Checking for next available city\n",
      "Processing Record: 30 of Set 5 | mar del plata\n",
      "Processing Record: 31 of Set 5 | saint-augustin\n",
      "Processing Record: 32 of Set 5 | qaqortoq\n",
      "Processing Record: 33 of Set 5 | vestmannaeyjar\n",
      "City not found.  Checking for next available city\n",
      "Processing Record: 34 of Set 5 | tarija\n",
      "Processing Record: 35 of Set 5 | westport\n",
      "Processing Record: 36 of Set 5 | vilhena\n",
      "Processing Record: 37 of Set 5 | necochea\n",
      "Processing Record: 38 of Set 5 | basoko\n",
      "Processing Record: 39 of Set 5 | jeremie\n",
      "Processing Record: 40 of Set 5 | ahuimanu\n",
      "Processing Record: 41 of Set 5 | itarema\n",
      "Processing Record: 42 of Set 5 | rudnyy\n",
      "City not found.  Checking for next available city\n",
      "Processing Record: 43 of Set 5 | whitecourt\n",
      "Processing Record: 44 of Set 5 | lithakia\n",
      "Processing Record: 45 of Set 5 | comodoro rivadavia\n",
      "Processing Record: 46 of Set 5 | senges\n",
      "Processing Record: 47 of Set 5 | zaozerne\n",
      "Processing Record: 48 of Set 5 | maniitsoq\n",
      "Processing Record: 49 of Set 5 | baturaja\n",
      "Processing Record: 50 of Set 5 | nizhnedevitsk\n",
      "City not found.  Checking for next available city\n",
      "Processing Record: 2 of Set 6 | lauenburg\n",
      "Processing Record: 3 of Set 6 | corinto\n",
      "Processing Record: 4 of Set 6 | dalvik\n",
      "Processing Record: 5 of Set 6 | aksay\n",
      "Processing Record: 6 of Set 6 | boa vista\n",
      "Processing Record: 7 of Set 6 | ketchikan\n",
      "Processing Record: 8 of Set 6 | hailar\n",
      "Processing Record: 9 of Set 6 | mentougou\n",
      "Processing Record: 10 of Set 6 | bryant\n",
      "Processing Record: 11 of Set 6 | mahuva\n",
      "City not found.  Checking for next available city\n",
      "Processing Record: 12 of Set 6 | port hedland\n",
      "Processing Record: 13 of Set 6 | fort saint james\n",
      "Processing Record: 14 of Set 6 | alekseyevka\n",
      "Processing Record: 15 of Set 6 | mahibadhoo\n",
      "Processing Record: 16 of Set 6 | valparaiso\n",
      "Processing Record: 17 of Set 6 | mpika\n",
      "Processing Record: 18 of Set 6 | katherine\n",
      "City not found.  Checking for next available city\n",
      "Processing Record: 19 of Set 6 | keti bandar\n",
      "Processing Record: 20 of Set 6 | komsomolskiy\n",
      "Processing Record: 21 of Set 6 | kampene\n",
      "Processing Record: 22 of Set 6 | lompoc\n",
      "Processing Record: 23 of Set 6 | rabat\n",
      "Processing Record: 24 of Set 6 | pierre\n",
      "Processing Record: 25 of Set 6 | kamenka\n",
      "Processing Record: 26 of Set 6 | longyearbyen\n",
      "Processing Record: 27 of Set 6 | qasigiannguit\n",
      "Processing Record: 28 of Set 6 | boda\n",
      "Processing Record: 29 of Set 6 | olenino\n",
      "Processing Record: 30 of Set 6 | aitape\n",
      "Processing Record: 31 of Set 6 | kahului\n",
      "Processing Record: 32 of Set 6 | egvekinot\n",
      "Processing Record: 33 of Set 6 | imbituba\n",
      "Processing Record: 34 of Set 6 | lamar\n",
      "Processing Record: 35 of Set 6 | paris\n",
      "Processing Record: 36 of Set 6 | thompson\n",
      "Processing Record: 37 of Set 6 | sangmelima\n",
      "Processing Record: 38 of Set 6 | soyo\n",
      "Processing Record: 39 of Set 6 | coquimbo\n",
      "Processing Record: 40 of Set 6 | ojinaga\n",
      "Processing Record: 41 of Set 6 | lumby\n",
      "Processing Record: 42 of Set 6 | gigmoto\n",
      "Processing Record: 43 of Set 6 | sur\n",
      "Processing Record: 44 of Set 6 | skagen\n",
      "Processing Record: 45 of Set 6 | vaasa\n",
      "Processing Record: 46 of Set 6 | bud\n",
      "Processing Record: 47 of Set 6 | umea\n",
      "Processing Record: 48 of Set 6 | kovernino\n",
      "Processing Record: 49 of Set 6 | thurso\n",
      "Processing Record: 50 of Set 6 | isangel\n",
      "Processing Record: 2 of Set 7 | sao felix do xingu\n",
      "Processing Record: 3 of Set 7 | santa maria\n",
      "Processing Record: 4 of Set 7 | obo\n",
      "Processing Record: 5 of Set 7 | general roca\n",
      "Processing Record: 6 of Set 7 | faya\n",
      "Processing Record: 7 of Set 7 | broome\n",
      "Processing Record: 8 of Set 7 | hokitika\n",
      "Processing Record: 9 of Set 7 | carora\n",
      "Processing Record: 10 of Set 7 | asyut\n",
      "Processing Record: 11 of Set 7 | los llanos de aridane\n",
      "Processing Record: 12 of Set 7 | pundaguitan\n",
      "Processing Record: 13 of Set 7 | faanui\n",
      "Processing Record: 14 of Set 7 | kaka\n",
      "Processing Record: 15 of Set 7 | honiara\n",
      "Processing Record: 16 of Set 7 | moron\n",
      "Processing Record: 17 of Set 7 | port augusta\n",
      "Processing Record: 18 of Set 7 | iralaya\n",
      "City not found.  Checking for next available city\n",
      "Processing Record: 19 of Set 7 | manado\n",
      "Processing Record: 20 of Set 7 | flinders\n",
      "Processing Record: 21 of Set 7 | villa bruzual\n",
      "Processing Record: 22 of Set 7 | siniscola\n",
      "Processing Record: 23 of Set 7 | lulea\n",
      "Processing Record: 24 of Set 7 | nieves\n",
      "Processing Record: 25 of Set 7 | cockburn town\n",
      "Processing Record: 26 of Set 7 | chamba\n",
      "Processing Record: 27 of Set 7 | sharjah\n",
      "Processing Record: 28 of Set 7 | ilmajoki\n",
      "Processing Record: 29 of Set 7 | macusani\n",
      "Processing Record: 30 of Set 7 | bonthe\n",
      "Processing Record: 31 of Set 7 | georgetown\n",
      "Processing Record: 32 of Set 7 | turukhansk\n",
      "Processing Record: 33 of Set 7 | takoradi\n",
      "Processing Record: 34 of Set 7 | florida\n",
      "Processing Record: 35 of Set 7 | maceio\n",
      "Processing Record: 36 of Set 7 | knysna\n",
      "Processing Record: 37 of Set 7 | moletai\n",
      "Processing Record: 38 of Set 7 | paramirim\n",
      "Processing Record: 39 of Set 7 | nouadhibou\n",
      "Processing Record: 40 of Set 7 | visnes\n",
      "Processing Record: 41 of Set 7 | esperance\n",
      "Processing Record: 42 of Set 7 | hervey bay\n",
      "Processing Record: 43 of Set 7 | yagodnoye\n",
      "Processing Record: 44 of Set 7 | portland\n",
      "Processing Record: 45 of Set 7 | gorontalo\n",
      "City not found.  Checking for next available city\n",
      "Processing Record: 46 of Set 7 | vostok\n",
      "Processing Record: 47 of Set 7 | shintomi\n",
      "Processing Record: 48 of Set 7 | benguela\n",
      "Processing Record: 49 of Set 7 | salekhard\n",
      "Processing Record: 50 of Set 7 | norsup\n",
      "City not found.  Checking for next available city\n",
      "Processing Record: 2 of Set 8 | souillac\n",
      "Processing Record: 3 of Set 8 | mstera\n",
      "Processing Record: 4 of Set 8 | guymon\n",
      "Processing Record: 5 of Set 8 | mareeba\n",
      "Processing Record: 6 of Set 8 | alberdi\n",
      "Processing Record: 7 of Set 8 | goba\n"
     ]
    },
    {
     "name": "stdout",
     "output_type": "stream",
     "text": [
      "Processing Record: 8 of Set 8 | alugan\n",
      "Processing Record: 9 of Set 8 | flin flon\n",
      "Processing Record: 10 of Set 8 | pachino\n",
      "Processing Record: 11 of Set 8 | san jose\n",
      "Processing Record: 12 of Set 8 | huarmey\n",
      "Processing Record: 13 of Set 8 | atocha\n",
      "Processing Record: 14 of Set 8 | reconquista\n",
      "Processing Record: 15 of Set 8 | madison\n",
      "Processing Record: 16 of Set 8 | dingle\n",
      "Processing Record: 17 of Set 8 | kenai\n",
      "Processing Record: 18 of Set 8 | kieta\n",
      "Processing Record: 19 of Set 8 | champerico\n",
      "Processing Record: 20 of Set 8 | crixas\n",
      "Processing Record: 21 of Set 8 | batagay\n",
      "Processing Record: 22 of Set 8 | sao joao da barra\n",
      "Processing Record: 23 of Set 8 | antalaha\n",
      "City not found.  Checking for next available city\n",
      "City not found.  Checking for next available city\n",
      "Processing Record: 24 of Set 8 | bolshoy kamen\n",
      "Processing Record: 25 of Set 8 | severo-yeniseyskiy\n",
      "Processing Record: 26 of Set 8 | umm lajj\n",
      "Processing Record: 27 of Set 8 | manokwari\n",
      "Processing Record: 28 of Set 8 | barcelos\n",
      "Processing Record: 29 of Set 8 | coihaique\n",
      "Processing Record: 30 of Set 8 | lebu\n",
      "Processing Record: 31 of Set 8 | ulaanbaatar\n",
      "Processing Record: 32 of Set 8 | gazli\n",
      "Processing Record: 33 of Set 8 | arona\n",
      "Processing Record: 34 of Set 8 | morro bay\n",
      "Processing Record: 35 of Set 8 | olinda\n",
      "Processing Record: 36 of Set 8 | hasaki\n",
      "Processing Record: 37 of Set 8 | moerai\n",
      "Processing Record: 38 of Set 8 | tura\n",
      "Processing Record: 39 of Set 8 | grand gaube\n",
      "City not found.  Checking for next available city\n",
      "Processing Record: 40 of Set 8 | hit\n",
      "Processing Record: 41 of Set 8 | teguise\n",
      "Processing Record: 42 of Set 8 | faro\n",
      "Processing Record: 43 of Set 8 | kiknur\n",
      "Processing Record: 44 of Set 8 | kununurra\n",
      "Processing Record: 45 of Set 8 | port blair\n",
      "City not found.  Checking for next available city\n",
      "Processing Record: 46 of Set 8 | griffith\n",
      "City not found.  Checking for next available city\n",
      "Processing Record: 47 of Set 8 | hornepayne\n",
      "Processing Record: 48 of Set 8 | taga\n",
      "Processing Record: 49 of Set 8 | herat\n",
      "Processing Record: 50 of Set 8 | henties bay\n",
      "Processing Record: 2 of Set 9 | manali\n",
      "Processing Record: 3 of Set 9 | pacific grove\n",
      "Processing Record: 4 of Set 9 | panyutyne\n",
      "Processing Record: 5 of Set 9 | umm kaddadah\n",
      "City not found.  Checking for next available city\n",
      "City not found.  Checking for next available city\n",
      "Processing Record: 6 of Set 9 | celestun\n",
      "Processing Record: 7 of Set 9 | ihosy\n",
      "Processing Record: 8 of Set 9 | lai\n",
      "Processing Record: 9 of Set 9 | koumra\n",
      "Processing Record: 10 of Set 9 | herrin\n",
      "Processing Record: 11 of Set 9 | puerto del rosario\n",
      "Processing Record: 12 of Set 9 | gairo\n",
      "Processing Record: 13 of Set 9 | alpena\n",
      "Processing Record: 14 of Set 9 | grand-lahou\n",
      "Processing Record: 15 of Set 9 | rabo de peixe\n",
      "Processing Record: 16 of Set 9 | leningradskiy\n",
      "City not found.  Checking for next available city\n",
      "Processing Record: 17 of Set 9 | rosita\n",
      "Processing Record: 18 of Set 9 | ancud\n",
      "Processing Record: 19 of Set 9 | imeni poliny osipenko\n",
      "Processing Record: 20 of Set 9 | boyuibe\n",
      "Processing Record: 21 of Set 9 | kilosa\n",
      "Processing Record: 22 of Set 9 | korla\n",
      "Processing Record: 23 of Set 9 | marfino\n",
      "Processing Record: 24 of Set 9 | puerto escondido\n",
      "Processing Record: 25 of Set 9 | hamilton\n",
      "Processing Record: 26 of Set 9 | sabang\n",
      "City not found.  Checking for next available city\n",
      "Processing Record: 27 of Set 9 | goderich\n",
      "Processing Record: 28 of Set 9 | floresta\n",
      "Processing Record: 29 of Set 9 | vestmanna\n",
      "Processing Record: 30 of Set 9 | ukiah\n",
      "Processing Record: 31 of Set 9 | palmer\n",
      "Processing Record: 32 of Set 9 | acari\n",
      "Processing Record: 33 of Set 9 | yar-sale\n",
      "Processing Record: 34 of Set 9 | dhar\n",
      "Processing Record: 35 of Set 9 | noshiro\n",
      "Processing Record: 36 of Set 9 | poum\n",
      "Processing Record: 37 of Set 9 | poli\n",
      "Processing Record: 38 of Set 9 | san cristobal\n",
      "Processing Record: 39 of Set 9 | miandrivazo\n",
      "Processing Record: 40 of Set 9 | aklavik\n",
      "Processing Record: 41 of Set 9 | namatanai\n",
      "City not found.  Checking for next available city\n",
      "Processing Record: 42 of Set 9 | inhambane\n",
      "Processing Record: 43 of Set 9 | camana\n",
      "Processing Record: 44 of Set 9 | standerton\n",
      "Processing Record: 45 of Set 9 | along\n",
      "Processing Record: 46 of Set 9 | sijunjung\n",
      "Processing Record: 47 of Set 9 | bembereke\n",
      "Processing Record: 48 of Set 9 | agirish\n",
      "Processing Record: 49 of Set 9 | grindavik\n",
      "Processing Record: 50 of Set 9 | ceres\n",
      "Processing Record: 2 of Set 10 | callaway\n",
      "Processing Record: 3 of Set 10 | glencoe\n",
      "Processing Record: 4 of Set 10 | velur\n",
      "Processing Record: 5 of Set 10 | shingu\n",
      "Processing Record: 6 of Set 10 | tigil\n",
      "Processing Record: 7 of Set 10 | marinette\n",
      "Processing Record: 8 of Set 10 | burewala\n",
      "Processing Record: 9 of Set 10 | northam\n",
      "Processing Record: 10 of Set 10 | magburaka\n",
      "City not found.  Checking for next available city\n",
      "Processing Record: 11 of Set 10 | hobyo\n",
      "Processing Record: 12 of Set 10 | ialibu\n",
      "Processing Record: 13 of Set 10 | porto nacional\n",
      "Processing Record: 14 of Set 10 | tuatapere\n",
      "Processing Record: 15 of Set 10 | laguna\n",
      "Processing Record: 16 of Set 10 | marsa matruh\n",
      "Processing Record: 17 of Set 10 | makakilo city\n",
      "Processing Record: 18 of Set 10 | polyarnyy\n",
      "Processing Record: 19 of Set 10 | lata\n",
      "Processing Record: 20 of Set 10 | robertsport\n",
      "Processing Record: 21 of Set 10 | yebaishou\n",
      "Processing Record: 22 of Set 10 | pitea\n",
      "City not found.  Checking for next available city\n",
      "Processing Record: 23 of Set 10 | bayanday\n",
      "Processing Record: 24 of Set 10 | marienburg\n",
      "Processing Record: 25 of Set 10 | rio grande\n",
      "Processing Record: 26 of Set 10 | shenjiamen\n",
      "Processing Record: 27 of Set 10 | miri\n",
      "Processing Record: 28 of Set 10 | dunedin\n",
      "Processing Record: 29 of Set 10 | coyoles\n",
      "Processing Record: 30 of Set 10 | mustasaari\n",
      "Processing Record: 31 of Set 10 | mattru\n",
      "Processing Record: 32 of Set 10 | popova\n",
      "Processing Record: 33 of Set 10 | trincomalee\n",
      "Processing Record: 34 of Set 10 | vega de alatorre\n",
      "Processing Record: 35 of Set 10 | naze\n",
      "Processing Record: 36 of Set 10 | barra patuca\n",
      "Processing Record: 37 of Set 10 | gorin\n",
      "City not found.  Checking for next available city\n",
      "Processing Record: 38 of Set 10 | saint anthony\n",
      "Processing Record: 39 of Set 10 | ormara\n",
      "Processing Record: 40 of Set 10 | swellendam\n",
      "Processing Record: 41 of Set 10 | svetlyy\n",
      "Processing Record: 42 of Set 10 | samarai\n",
      "Processing Record: 43 of Set 10 | atasu\n",
      "Processing Record: 44 of Set 10 | deputatskiy\n",
      "Processing Record: 45 of Set 10 | gold coast\n",
      "Processing Record: 46 of Set 10 | mastic beach\n",
      "Processing Record: 47 of Set 10 | dwarka\n",
      "Processing Record: 48 of Set 10 | nhulunbuy\n",
      "Processing Record: 49 of Set 10 | tsotilion\n",
      "Processing Record: 50 of Set 10 | la ronge\n",
      "Processing Record: 2 of Set 11 | alveringem\n",
      "Processing Record: 3 of Set 11 | yerbogachen\n",
      "Processing Record: 4 of Set 11 | savannah bight\n",
      "Processing Record: 5 of Set 11 | khandbari\n",
      "Processing Record: 6 of Set 11 | tiarei\n",
      "Processing Record: 7 of Set 11 | aden\n",
      "City not found.  Checking for next available city\n",
      "Processing Record: 8 of Set 11 | kaeo\n",
      "Processing Record: 9 of Set 11 | lyubotyn\n",
      "Processing Record: 10 of Set 11 | jingdezhen\n",
      "Processing Record: 11 of Set 11 | whitehorse\n",
      "Processing Record: 12 of Set 11 | ghanzi\n",
      "Processing Record: 13 of Set 11 | trat\n",
      "Processing Record: 14 of Set 11 | aksha\n",
      "Processing Record: 15 of Set 11 | sao filipe\n",
      "Processing Record: 16 of Set 11 | tahe\n",
      "City not found.  Checking for next available city\n",
      "Processing Record: 17 of Set 11 | asau\n",
      "Processing Record: 18 of Set 11 | ponta delgada\n",
      "Processing Record: 19 of Set 11 | manhumirim\n",
      "Processing Record: 20 of Set 11 | kimbe\n",
      "Processing Record: 21 of Set 11 | bend\n",
      "Processing Record: 22 of Set 11 | wajir\n",
      "Processing Record: 23 of Set 11 | waverly\n",
      "Processing Record: 24 of Set 11 | pedernales\n",
      "Processing Record: 25 of Set 11 | tessalit\n",
      "Processing Record: 26 of Set 11 | rio gallegos\n",
      "Processing Record: 27 of Set 11 | xining\n",
      "Processing Record: 28 of Set 11 | mugur-aksy\n",
      "Processing Record: 29 of Set 11 | muisne\n",
      "Processing Record: 30 of Set 11 | najran\n",
      "Processing Record: 31 of Set 11 | siguiri\n",
      "Processing Record: 32 of Set 11 | burnie\n",
      "Processing Record: 33 of Set 11 | blackpool\n",
      "Processing Record: 34 of Set 11 | fort nelson\n",
      "Processing Record: 35 of Set 11 | erbaa\n",
      "Processing Record: 36 of Set 11 | sinjar\n"
     ]
    },
    {
     "name": "stdout",
     "output_type": "stream",
     "text": [
      "Processing Record: 37 of Set 11 | poros\n",
      "Processing Record: 38 of Set 11 | fairbanks\n",
      "Processing Record: 39 of Set 11 | port moresby\n",
      "Processing Record: 40 of Set 11 | oussouye\n",
      "Processing Record: 41 of Set 11 | moindou\n",
      "Processing Record: 42 of Set 11 | lubao\n",
      "Processing Record: 43 of Set 11 | erzin\n",
      "Processing Record: 44 of Set 11 | dutlwe\n",
      "Processing Record: 45 of Set 11 | iskateley\n",
      "Processing Record: 46 of Set 11 | saint-pierre\n",
      "Processing Record: 47 of Set 11 | buguey\n",
      "Processing Record: 48 of Set 11 | mutsu\n",
      "Processing Record: 49 of Set 11 | tevaitoa\n",
      "City not found.  Checking for next available city\n",
      "Processing Record: 50 of Set 11 | praia\n",
      "Processing Record: 2 of Set 12 | zabol\n",
      "Processing Record: 3 of Set 12 | lebedyan\n",
      "Processing Record: 4 of Set 12 | ust-nera\n",
      "Processing Record: 5 of Set 12 | cedral\n",
      "Processing Record: 6 of Set 12 | gornopravdinsk\n",
      "Processing Record: 7 of Set 12 | elliot\n",
      "Processing Record: 8 of Set 12 | guarapari\n",
      "-------------------------------------------------\n",
      "Data Retrieval Complete\n",
      "-------------------------------------------------\n"
     ]
    }
   ],
   "source": [
    "# Display Initiation message of data pull\n",
    "print('-------------------------------------------------')\n",
    "print('Begin Data Retrieval')\n",
    "print('-------------------------------------------------\\n')\n",
    "\n",
    "# Setting counter for printed log\n",
    "counter = 0\n",
    "set_counter = 1\n",
    "\n",
    "# Go through each city in cities list to populate list\n",
    "for city in cities:\n",
    "    try:\n",
    "        response = requests.get(url + city).json()\n",
    "        CityName.append(response['name'])\n",
    "        Latitude.append(response['coord']['lat'])\n",
    "        Longitude.append(response['coord']['lon'])\n",
    "        HighTemp.append(response['main']['temp'])\n",
    "        Humidity.append(response['main']['humidity'])\n",
    "        Cloudiness.append(response['clouds']['all'])\n",
    "        WindSpeed.append(response['wind']['speed'])\n",
    "        CountryCode.append(response['sys']['country'])\n",
    "        Date.append(response['dt'])\n",
    "        \n",
    "        # Establishing a new set of cities of 50\n",
    "        if counter > 49:\n",
    "            counter = 1\n",
    "            set_counter += 1\n",
    "            \n",
    "            \n",
    "        else:\n",
    "            counter += 1\n",
    "                    \n",
    "            # Message to be displayed for log\n",
    "            print(f'Processing Record: {counter} of Set {set_counter} | {city}')\n",
    "        \n",
    "    except:\n",
    "        \n",
    "        # Display message if city is not foundj\n",
    "        print('City not found.  Checking for next available city')\n",
    "        \n",
    "\n",
    "#Displaying end of data retrieval message\n",
    "print('-------------------------------------------------')\n",
    "print('Data Retrieval Complete')\n",
    "print('-------------------------------------------------')\n",
    "\n"
   ]
  },
  {
   "cell_type": "code",
   "execution_count": 6,
   "metadata": {},
   "outputs": [],
   "source": [
    "# Creating DataFrame CityWeather_df from CityWeather\n",
    "CityWeather = {\n",
    "    'name': CityName,\n",
    "    'Lat' : Latitude,\n",
    "    'Lng' : Longitude,\n",
    "    'Max Temp' : HighTemp,\n",
    "    'Humidity' : Humidity,\n",
    "    'Cloudiness' : Cloudiness,\n",
    "    'Wind Speed' : WindSpeed,\n",
    "    'Country' : CountryCode,\n",
    "    'Date' : Date\n",
    "}\n",
    "\n",
    "CityWeather_df = pd.DataFrame(CityWeather)"
   ]
  },
  {
   "cell_type": "code",
   "execution_count": 7,
   "metadata": {},
   "outputs": [],
   "source": [
    "# Output File (CSV)\n",
    "CityWeather_df.to_csv(\"../output_data/Cities_HW.csv\", index = False)"
   ]
  },
  {
   "cell_type": "markdown",
   "metadata": {},
   "source": [
    "### Convert Raw Data to DataFrame\n",
    "* Export the city data into a .csv.\n",
    "* Display the DataFrame"
   ]
  },
  {
   "cell_type": "code",
   "execution_count": 8,
   "metadata": {},
   "outputs": [
    {
     "data": {
      "text/html": [
       "<div>\n",
       "<style scoped>\n",
       "    .dataframe tbody tr th:only-of-type {\n",
       "        vertical-align: middle;\n",
       "    }\n",
       "\n",
       "    .dataframe tbody tr th {\n",
       "        vertical-align: top;\n",
       "    }\n",
       "\n",
       "    .dataframe thead th {\n",
       "        text-align: right;\n",
       "    }\n",
       "</style>\n",
       "<table border=\"1\" class=\"dataframe\">\n",
       "  <thead>\n",
       "    <tr style=\"text-align: right;\">\n",
       "      <th></th>\n",
       "      <th>name</th>\n",
       "      <th>Lat</th>\n",
       "      <th>Lng</th>\n",
       "      <th>Max Temp</th>\n",
       "      <th>Humidity</th>\n",
       "      <th>Cloudiness</th>\n",
       "      <th>Wind Speed</th>\n",
       "      <th>Country</th>\n",
       "      <th>Date</th>\n",
       "    </tr>\n",
       "  </thead>\n",
       "  <tbody>\n",
       "    <tr>\n",
       "      <th>0</th>\n",
       "      <td>Punta Arenas</td>\n",
       "      <td>-53.1500</td>\n",
       "      <td>-70.9167</td>\n",
       "      <td>41.11</td>\n",
       "      <td>75</td>\n",
       "      <td>75</td>\n",
       "      <td>11.50</td>\n",
       "      <td>CL</td>\n",
       "      <td>1627161407</td>\n",
       "    </tr>\n",
       "    <tr>\n",
       "      <th>1</th>\n",
       "      <td>Ust'-Koksa</td>\n",
       "      <td>50.2696</td>\n",
       "      <td>85.6108</td>\n",
       "      <td>54.50</td>\n",
       "      <td>90</td>\n",
       "      <td>15</td>\n",
       "      <td>0.76</td>\n",
       "      <td>RU</td>\n",
       "      <td>1627161408</td>\n",
       "    </tr>\n",
       "    <tr>\n",
       "      <th>2</th>\n",
       "      <td>Port Elizabeth</td>\n",
       "      <td>-33.9180</td>\n",
       "      <td>25.5701</td>\n",
       "      <td>53.89</td>\n",
       "      <td>76</td>\n",
       "      <td>40</td>\n",
       "      <td>4.61</td>\n",
       "      <td>ZA</td>\n",
       "      <td>1627161408</td>\n",
       "    </tr>\n",
       "    <tr>\n",
       "      <th>3</th>\n",
       "      <td>Butaritari</td>\n",
       "      <td>3.0707</td>\n",
       "      <td>172.7902</td>\n",
       "      <td>83.71</td>\n",
       "      <td>73</td>\n",
       "      <td>100</td>\n",
       "      <td>15.32</td>\n",
       "      <td>KI</td>\n",
       "      <td>1627161409</td>\n",
       "    </tr>\n",
       "    <tr>\n",
       "      <th>4</th>\n",
       "      <td>Hilo</td>\n",
       "      <td>19.7297</td>\n",
       "      <td>-155.0900</td>\n",
       "      <td>81.63</td>\n",
       "      <td>76</td>\n",
       "      <td>90</td>\n",
       "      <td>6.91</td>\n",
       "      <td>US</td>\n",
       "      <td>1627161124</td>\n",
       "    </tr>\n",
       "    <tr>\n",
       "      <th>...</th>\n",
       "      <td>...</td>\n",
       "      <td>...</td>\n",
       "      <td>...</td>\n",
       "      <td>...</td>\n",
       "      <td>...</td>\n",
       "      <td>...</td>\n",
       "      <td>...</td>\n",
       "      <td>...</td>\n",
       "      <td>...</td>\n",
       "    </tr>\n",
       "    <tr>\n",
       "      <th>553</th>\n",
       "      <td>Ust-Nera</td>\n",
       "      <td>64.5667</td>\n",
       "      <td>143.2000</td>\n",
       "      <td>58.05</td>\n",
       "      <td>99</td>\n",
       "      <td>100</td>\n",
       "      <td>7.90</td>\n",
       "      <td>RU</td>\n",
       "      <td>1627161637</td>\n",
       "    </tr>\n",
       "    <tr>\n",
       "      <th>554</th>\n",
       "      <td>Cedral</td>\n",
       "      <td>23.8000</td>\n",
       "      <td>-100.7333</td>\n",
       "      <td>81.19</td>\n",
       "      <td>22</td>\n",
       "      <td>0</td>\n",
       "      <td>11.05</td>\n",
       "      <td>MX</td>\n",
       "      <td>1627161637</td>\n",
       "    </tr>\n",
       "    <tr>\n",
       "      <th>555</th>\n",
       "      <td>Gornopravdinsk</td>\n",
       "      <td>60.0500</td>\n",
       "      <td>69.9000</td>\n",
       "      <td>52.47</td>\n",
       "      <td>96</td>\n",
       "      <td>90</td>\n",
       "      <td>3.76</td>\n",
       "      <td>RU</td>\n",
       "      <td>1627161638</td>\n",
       "    </tr>\n",
       "    <tr>\n",
       "      <th>556</th>\n",
       "      <td>Elliot</td>\n",
       "      <td>-31.3333</td>\n",
       "      <td>27.8500</td>\n",
       "      <td>36.23</td>\n",
       "      <td>32</td>\n",
       "      <td>0</td>\n",
       "      <td>6.76</td>\n",
       "      <td>ZA</td>\n",
       "      <td>1627161638</td>\n",
       "    </tr>\n",
       "    <tr>\n",
       "      <th>557</th>\n",
       "      <td>Guarapari</td>\n",
       "      <td>-20.6667</td>\n",
       "      <td>-40.4975</td>\n",
       "      <td>71.49</td>\n",
       "      <td>70</td>\n",
       "      <td>0</td>\n",
       "      <td>8.93</td>\n",
       "      <td>BR</td>\n",
       "      <td>1627161638</td>\n",
       "    </tr>\n",
       "  </tbody>\n",
       "</table>\n",
       "<p>558 rows × 9 columns</p>\n",
       "</div>"
      ],
      "text/plain": [
       "               name      Lat       Lng  Max Temp  Humidity  Cloudiness  \\\n",
       "0      Punta Arenas -53.1500  -70.9167     41.11        75          75   \n",
       "1        Ust'-Koksa  50.2696   85.6108     54.50        90          15   \n",
       "2    Port Elizabeth -33.9180   25.5701     53.89        76          40   \n",
       "3        Butaritari   3.0707  172.7902     83.71        73         100   \n",
       "4              Hilo  19.7297 -155.0900     81.63        76          90   \n",
       "..              ...      ...       ...       ...       ...         ...   \n",
       "553        Ust-Nera  64.5667  143.2000     58.05        99         100   \n",
       "554          Cedral  23.8000 -100.7333     81.19        22           0   \n",
       "555  Gornopravdinsk  60.0500   69.9000     52.47        96          90   \n",
       "556          Elliot -31.3333   27.8500     36.23        32           0   \n",
       "557       Guarapari -20.6667  -40.4975     71.49        70           0   \n",
       "\n",
       "     Wind Speed Country        Date  \n",
       "0         11.50      CL  1627161407  \n",
       "1          0.76      RU  1627161408  \n",
       "2          4.61      ZA  1627161408  \n",
       "3         15.32      KI  1627161409  \n",
       "4          6.91      US  1627161124  \n",
       "..          ...     ...         ...  \n",
       "553        7.90      RU  1627161637  \n",
       "554       11.05      MX  1627161637  \n",
       "555        3.76      RU  1627161638  \n",
       "556        6.76      ZA  1627161638  \n",
       "557        8.93      BR  1627161638  \n",
       "\n",
       "[558 rows x 9 columns]"
      ]
     },
     "execution_count": 8,
     "metadata": {},
     "output_type": "execute_result"
    }
   ],
   "source": [
    "# Display DataFrame CityWeather_df\n",
    "CityWeather_df"
   ]
  },
  {
   "cell_type": "markdown",
   "metadata": {},
   "source": [
    "## Inspect the data and remove the cities where the humidity > 100%.\n",
    "----\n",
    "Skip this step if there are no cities that have humidity > 100%. "
   ]
  },
  {
   "cell_type": "code",
   "execution_count": 9,
   "metadata": {},
   "outputs": [
    {
     "data": {
      "text/plain": [
       "name          0\n",
       "Lat           0\n",
       "Lng           0\n",
       "Max Temp      0\n",
       "Humidity      0\n",
       "Cloudiness    0\n",
       "Wind Speed    0\n",
       "Country       0\n",
       "Date          0\n",
       "dtype: int64"
      ]
     },
     "execution_count": 9,
     "metadata": {},
     "output_type": "execute_result"
    }
   ],
   "source": [
    "# Inspecting the data to determine if any city had humidity recorded at > 100%: NONE\n",
    "\n",
    "HumiditySearch = CityWeather_df.loc[CityWeather_df['Humidity'] > 100].count()\n",
    "HumiditySearch"
   ]
  },
  {
   "cell_type": "code",
   "execution_count": 10,
   "metadata": {},
   "outputs": [
    {
     "data": {
      "text/html": [
       "<div>\n",
       "<style scoped>\n",
       "    .dataframe tbody tr th:only-of-type {\n",
       "        vertical-align: middle;\n",
       "    }\n",
       "\n",
       "    .dataframe tbody tr th {\n",
       "        vertical-align: top;\n",
       "    }\n",
       "\n",
       "    .dataframe thead th {\n",
       "        text-align: right;\n",
       "    }\n",
       "</style>\n",
       "<table border=\"1\" class=\"dataframe\">\n",
       "  <thead>\n",
       "    <tr style=\"text-align: right;\">\n",
       "      <th></th>\n",
       "      <th>name</th>\n",
       "      <th>Lat</th>\n",
       "      <th>Lng</th>\n",
       "      <th>Max Temp</th>\n",
       "      <th>Humidity</th>\n",
       "      <th>Cloudiness</th>\n",
       "      <th>Wind Speed</th>\n",
       "      <th>Country</th>\n",
       "      <th>Date</th>\n",
       "    </tr>\n",
       "  </thead>\n",
       "  <tbody>\n",
       "    <tr>\n",
       "      <th>97</th>\n",
       "      <td>Lashio</td>\n",
       "      <td>22.9333</td>\n",
       "      <td>97.7500</td>\n",
       "      <td>69.26</td>\n",
       "      <td>100</td>\n",
       "      <td>100</td>\n",
       "      <td>0.98</td>\n",
       "      <td>MM</td>\n",
       "      <td>1627161447</td>\n",
       "    </tr>\n",
       "    <tr>\n",
       "      <th>114</th>\n",
       "      <td>Alyangula</td>\n",
       "      <td>-13.8483</td>\n",
       "      <td>136.4192</td>\n",
       "      <td>67.87</td>\n",
       "      <td>100</td>\n",
       "      <td>90</td>\n",
       "      <td>1.14</td>\n",
       "      <td>AU</td>\n",
       "      <td>1627161453</td>\n",
       "    </tr>\n",
       "    <tr>\n",
       "      <th>227</th>\n",
       "      <td>Clyde River</td>\n",
       "      <td>70.4692</td>\n",
       "      <td>-68.5914</td>\n",
       "      <td>34.03</td>\n",
       "      <td>100</td>\n",
       "      <td>90</td>\n",
       "      <td>23.02</td>\n",
       "      <td>CA</td>\n",
       "      <td>1627161501</td>\n",
       "    </tr>\n",
       "    <tr>\n",
       "      <th>428</th>\n",
       "      <td>Vestmanna</td>\n",
       "      <td>62.1564</td>\n",
       "      <td>-7.1664</td>\n",
       "      <td>49.12</td>\n",
       "      <td>100</td>\n",
       "      <td>90</td>\n",
       "      <td>5.75</td>\n",
       "      <td>FO</td>\n",
       "      <td>1627161584</td>\n",
       "    </tr>\n",
       "    <tr>\n",
       "      <th>476</th>\n",
       "      <td>Marabu</td>\n",
       "      <td>4.4148</td>\n",
       "      <td>114.0089</td>\n",
       "      <td>78.94</td>\n",
       "      <td>100</td>\n",
       "      <td>20</td>\n",
       "      <td>0.00</td>\n",
       "      <td>MY</td>\n",
       "      <td>1627161603</td>\n",
       "    </tr>\n",
       "  </tbody>\n",
       "</table>\n",
       "</div>"
      ],
      "text/plain": [
       "            name      Lat       Lng  Max Temp  Humidity  Cloudiness  \\\n",
       "97        Lashio  22.9333   97.7500     69.26       100         100   \n",
       "114    Alyangula -13.8483  136.4192     67.87       100          90   \n",
       "227  Clyde River  70.4692  -68.5914     34.03       100          90   \n",
       "428    Vestmanna  62.1564   -7.1664     49.12       100          90   \n",
       "476       Marabu   4.4148  114.0089     78.94       100          20   \n",
       "\n",
       "     Wind Speed Country        Date  \n",
       "97         0.98      MM  1627161447  \n",
       "114        1.14      AU  1627161453  \n",
       "227       23.02      CA  1627161501  \n",
       "428        5.75      FO  1627161584  \n",
       "476        0.00      MY  1627161603  "
      ]
     },
     "execution_count": 10,
     "metadata": {},
     "output_type": "execute_result"
    }
   ],
   "source": [
    "# Inspecting the data to determine if any city had humidity recorded = 100%\n",
    "\n",
    "HumidityEqualHundred = CityWeather_df.loc[CityWeather_df['Humidity'] == 100]\n",
    "HumidityEqualHundred\n"
   ]
  },
  {
   "cell_type": "code",
   "execution_count": 11,
   "metadata": {},
   "outputs": [],
   "source": [
    "# Get the indices of cities that have humidity over 100%.\n",
    "\n",
    "# THIS STEP WAS SKIPPED BECAUSE THERE WERE NO DATA WITH HUMIDITY RECORDED OVER 100%"
   ]
  },
  {
   "cell_type": "code",
   "execution_count": 12,
   "metadata": {},
   "outputs": [],
   "source": [
    "# Make a new DataFrame equal to the city data to drop all humidity outliers by index.\n",
    "# Passing \"inplace=False\" will make a copy of the city_data DataFrame, which we call \"clean_city_data\".\n",
    "\n",
    "# THIS STEP WAS SKIPPED BECAUSE THERE WERE NO DATA WITH HUMIDITY RECORDED OVER 100%"
   ]
  },
  {
   "cell_type": "markdown",
   "metadata": {},
   "source": [
    "## Plotting the Data\n",
    "* Use proper labeling of the plots using plot titles (including date of analysis) and axes labels.\n",
    "* Save the plotted figures as .pngs."
   ]
  },
  {
   "cell_type": "markdown",
   "metadata": {},
   "source": [
    "## Latitude vs. Temperature Plot"
   ]
  },
  {
   "cell_type": "code",
   "execution_count": 28,
   "metadata": {
    "scrolled": true
   },
   "outputs": [
    {
     "data": {
      "image/png": "[encoded data removed]",
      "text/plain": [
       "<Figure size 432x288 with 1 Axes>"
      ]
     },
     "metadata": {
      "needs_background": "light"
     },
     "output_type": "display_data"
    }
   ],
   "source": [
    "#add today's date in to charts\n",
    "#date = dt.date.today().strftime(\"%m/%d/%Y\")\n",
    "\n",
    "plt.scatter(CityWeather_df[\"Lat\"], CityWeather_df[\"Max Temp\"], marker=\"o\",s=20,alpha=.75, edgecolors=\"k\")\n",
    "plt.title(f\"City Latitude vs. Max Temperature\")\n",
    "plt.ylabel(\"Max Temperature (F)\")\n",
    "plt.xlabel(\"Latitude\")\n",
    "plt.grid(True)\n",
    "\n",
    "#plt.savefig(\"City Latitude vs Max Temperature.png\")\n",
    "plt.show()"
   ]
  },
  {
   "cell_type": "markdown",
   "metadata": {},
   "source": [
    "## Latitude vs. Humidity Plot"
   ]
  },
  {
   "cell_type": "code",
   "execution_count": 14,
   "metadata": {},
   "outputs": [
    {
     "data": {
      "image/png": "[encoded data removed]",
      "text/plain": [
       "<Figure size 432x288 with 1 Axes>"
      ]
     },
     "metadata": {
      "needs_background": "light"
     },
     "output_type": "display_data"
    }
   ],
   "source": [
    "plt.scatter(CityWeather_df[\"Lat\"], CityWeather_df[\"Humidity\"], marker=\"o\",s=20,alpha=.75, edgecolors=\"k\")\n",
    "plt.title(f\"City Latitude vs. Humidity\")\n",
    "plt.ylabel(\"Humidity (%)\")\n",
    "plt.xlabel(\"Latitude\")\n",
    "plt.grid(True)"
   ]
  },
  {
   "cell_type": "markdown",
   "metadata": {},
   "source": [
    "## Latitude vs. Cloudiness Plot"
   ]
  },
  {
   "cell_type": "code",
   "execution_count": 15,
   "metadata": {},
   "outputs": [
    {
     "data": {
      "image/png": "[encoded data removed]",
      "text/plain": [
       "<Figure size 432x288 with 1 Axes>"
      ]
     },
     "metadata": {
      "needs_background": "light"
     },
     "output_type": "display_data"
    }
   ],
   "source": [
    "plt.scatter(CityWeather_df[\"Lat\"], CityWeather_df[\"Cloudiness\"], marker=\"o\",s=20,alpha=.75, edgecolors=\"k\")\n",
    "plt.title(f\"City Latitude vs. Cloudiness\")\n",
    "plt.ylabel(\"Cloudiness (%)\")\n",
    "plt.xlabel(\"Latitude\")\n",
    "plt.grid(True)"
   ]
  },
  {
   "cell_type": "markdown",
   "metadata": {},
   "source": [
    "## Latitude vs. Wind Speed Plot"
   ]
  },
  {
   "cell_type": "code",
   "execution_count": 16,
   "metadata": {},
   "outputs": [
    {
     "data": {
      "image/png": "[encoded data removed]",
      "text/plain": [
       "<Figure size 432x288 with 1 Axes>"
      ]
     },
     "metadata": {
      "needs_background": "light"
     },
     "output_type": "display_data"
    }
   ],
   "source": [
    "plt.scatter(CityWeather_df[\"Lat\"], CityWeather_df[\"Wind Speed\"], marker=\"o\",s=20,alpha=.75, edgecolors=\"k\")\n",
    "plt.title(f\"City Latitude vs. Wind Speed\")\n",
    "plt.ylabel(\"Wind Speed (mph)\")\n",
    "plt.xlabel(\"Latitude\")\n",
    "plt.grid(True)"
   ]
  },
  {
   "cell_type": "markdown",
   "metadata": {},
   "source": [
    "## Linear Regression"
   ]
  },
  {
   "cell_type": "code",
   "execution_count": 17,
   "metadata": {},
   "outputs": [
    {
     "data": {
      "text/html": [
       "<div>\n",
       "<style scoped>\n",
       "    .dataframe tbody tr th:only-of-type {\n",
       "        vertical-align: middle;\n",
       "    }\n",
       "\n",
       "    .dataframe tbody tr th {\n",
       "        vertical-align: top;\n",
       "    }\n",
       "\n",
       "    .dataframe thead th {\n",
       "        text-align: right;\n",
       "    }\n",
       "</style>\n",
       "<table border=\"1\" class=\"dataframe\">\n",
       "  <thead>\n",
       "    <tr style=\"text-align: right;\">\n",
       "      <th></th>\n",
       "      <th>name</th>\n",
       "      <th>Lat</th>\n",
       "      <th>Lng</th>\n",
       "      <th>Max Temp</th>\n",
       "      <th>Humidity</th>\n",
       "      <th>Cloudiness</th>\n",
       "      <th>Wind Speed</th>\n",
       "      <th>Country</th>\n",
       "      <th>Date</th>\n",
       "    </tr>\n",
       "  </thead>\n",
       "  <tbody>\n",
       "    <tr>\n",
       "      <th>1</th>\n",
       "      <td>Ust'-Koksa</td>\n",
       "      <td>50.2696</td>\n",
       "      <td>85.6108</td>\n",
       "      <td>54.50</td>\n",
       "      <td>90</td>\n",
       "      <td>15</td>\n",
       "      <td>0.76</td>\n",
       "      <td>RU</td>\n",
       "      <td>1627161408</td>\n",
       "    </tr>\n",
       "    <tr>\n",
       "      <th>3</th>\n",
       "      <td>Butaritari</td>\n",
       "      <td>3.0707</td>\n",
       "      <td>172.7902</td>\n",
       "      <td>83.71</td>\n",
       "      <td>73</td>\n",
       "      <td>100</td>\n",
       "      <td>15.32</td>\n",
       "      <td>KI</td>\n",
       "      <td>1627161409</td>\n",
       "    </tr>\n",
       "    <tr>\n",
       "      <th>4</th>\n",
       "      <td>Hilo</td>\n",
       "      <td>19.7297</td>\n",
       "      <td>-155.0900</td>\n",
       "      <td>81.63</td>\n",
       "      <td>76</td>\n",
       "      <td>90</td>\n",
       "      <td>6.91</td>\n",
       "      <td>US</td>\n",
       "      <td>1627161124</td>\n",
       "    </tr>\n",
       "    <tr>\n",
       "      <th>5</th>\n",
       "      <td>Tarrafal</td>\n",
       "      <td>15.2833</td>\n",
       "      <td>-23.7667</td>\n",
       "      <td>77.79</td>\n",
       "      <td>71</td>\n",
       "      <td>89</td>\n",
       "      <td>8.16</td>\n",
       "      <td>CV</td>\n",
       "      <td>1627161409</td>\n",
       "    </tr>\n",
       "    <tr>\n",
       "      <th>11</th>\n",
       "      <td>Sinnamary</td>\n",
       "      <td>5.3833</td>\n",
       "      <td>-52.9500</td>\n",
       "      <td>79.84</td>\n",
       "      <td>84</td>\n",
       "      <td>100</td>\n",
       "      <td>12.19</td>\n",
       "      <td>GF</td>\n",
       "      <td>1627161411</td>\n",
       "    </tr>\n",
       "  </tbody>\n",
       "</table>\n",
       "</div>"
      ],
      "text/plain": [
       "          name      Lat       Lng  Max Temp  Humidity  Cloudiness  Wind Speed  \\\n",
       "1   Ust'-Koksa  50.2696   85.6108     54.50        90          15        0.76   \n",
       "3   Butaritari   3.0707  172.7902     83.71        73         100       15.32   \n",
       "4         Hilo  19.7297 -155.0900     81.63        76          90        6.91   \n",
       "5     Tarrafal  15.2833  -23.7667     77.79        71          89        8.16   \n",
       "11   Sinnamary   5.3833  -52.9500     79.84        84         100       12.19   \n",
       "\n",
       "   Country        Date  \n",
       "1       RU  1627161408  \n",
       "3       KI  1627161409  \n",
       "4       US  1627161124  \n",
       "5       CV  1627161409  \n",
       "11      GF  1627161411  "
      ]
     },
     "execution_count": 17,
     "metadata": {},
     "output_type": "execute_result"
    }
   ],
   "source": [
    "# Create data frame for Northern Hemisphere\n",
    "NorthHemi = CityWeather_df.loc[CityWeather_df[\"Lat\"] > 0]\n",
    "NorthHemi.head()"
   ]
  },
  {
   "cell_type": "code",
   "execution_count": 18,
   "metadata": {},
   "outputs": [
    {
     "data": {
      "text/html": [
       "<div>\n",
       "<style scoped>\n",
       "    .dataframe tbody tr th:only-of-type {\n",
       "        vertical-align: middle;\n",
       "    }\n",
       "\n",
       "    .dataframe tbody tr th {\n",
       "        vertical-align: top;\n",
       "    }\n",
       "\n",
       "    .dataframe thead th {\n",
       "        text-align: right;\n",
       "    }\n",
       "</style>\n",
       "<table border=\"1\" class=\"dataframe\">\n",
       "  <thead>\n",
       "    <tr style=\"text-align: right;\">\n",
       "      <th></th>\n",
       "      <th>name</th>\n",
       "      <th>Lat</th>\n",
       "      <th>Lng</th>\n",
       "      <th>Max Temp</th>\n",
       "      <th>Humidity</th>\n",
       "      <th>Cloudiness</th>\n",
       "      <th>Wind Speed</th>\n",
       "      <th>Country</th>\n",
       "      <th>Date</th>\n",
       "    </tr>\n",
       "  </thead>\n",
       "  <tbody>\n",
       "    <tr>\n",
       "      <th>0</th>\n",
       "      <td>Punta Arenas</td>\n",
       "      <td>-53.1500</td>\n",
       "      <td>-70.9167</td>\n",
       "      <td>41.11</td>\n",
       "      <td>75</td>\n",
       "      <td>75</td>\n",
       "      <td>11.50</td>\n",
       "      <td>CL</td>\n",
       "      <td>1627161407</td>\n",
       "    </tr>\n",
       "    <tr>\n",
       "      <th>2</th>\n",
       "      <td>Port Elizabeth</td>\n",
       "      <td>-33.9180</td>\n",
       "      <td>25.5701</td>\n",
       "      <td>53.89</td>\n",
       "      <td>76</td>\n",
       "      <td>40</td>\n",
       "      <td>4.61</td>\n",
       "      <td>ZA</td>\n",
       "      <td>1627161408</td>\n",
       "    </tr>\n",
       "    <tr>\n",
       "      <th>6</th>\n",
       "      <td>Bredasdorp</td>\n",
       "      <td>-34.5322</td>\n",
       "      <td>20.0403</td>\n",
       "      <td>47.19</td>\n",
       "      <td>68</td>\n",
       "      <td>15</td>\n",
       "      <td>4.36</td>\n",
       "      <td>ZA</td>\n",
       "      <td>1627161122</td>\n",
       "    </tr>\n",
       "    <tr>\n",
       "      <th>7</th>\n",
       "      <td>Barbacena</td>\n",
       "      <td>-21.2258</td>\n",
       "      <td>-43.7736</td>\n",
       "      <td>60.31</td>\n",
       "      <td>59</td>\n",
       "      <td>0</td>\n",
       "      <td>4.61</td>\n",
       "      <td>BR</td>\n",
       "      <td>1627161410</td>\n",
       "    </tr>\n",
       "    <tr>\n",
       "      <th>8</th>\n",
       "      <td>Rikitea</td>\n",
       "      <td>-23.1203</td>\n",
       "      <td>-134.9692</td>\n",
       "      <td>69.22</td>\n",
       "      <td>54</td>\n",
       "      <td>0</td>\n",
       "      <td>1.21</td>\n",
       "      <td>PF</td>\n",
       "      <td>1627161411</td>\n",
       "    </tr>\n",
       "  </tbody>\n",
       "</table>\n",
       "</div>"
      ],
      "text/plain": [
       "             name      Lat       Lng  Max Temp  Humidity  Cloudiness  \\\n",
       "0    Punta Arenas -53.1500  -70.9167     41.11        75          75   \n",
       "2  Port Elizabeth -33.9180   25.5701     53.89        76          40   \n",
       "6      Bredasdorp -34.5322   20.0403     47.19        68          15   \n",
       "7       Barbacena -21.2258  -43.7736     60.31        59           0   \n",
       "8         Rikitea -23.1203 -134.9692     69.22        54           0   \n",
       "\n",
       "   Wind Speed Country        Date  \n",
       "0       11.50      CL  1627161407  \n",
       "2        4.61      ZA  1627161408  \n",
       "6        4.36      ZA  1627161122  \n",
       "7        4.61      BR  1627161410  \n",
       "8        1.21      PF  1627161411  "
      ]
     },
     "execution_count": 18,
     "metadata": {},
     "output_type": "execute_result"
    }
   ],
   "source": [
    "# Create data frame for Southern Hemisphere\n",
    "SouthHemi = CityWeather_df.loc[CityWeather_df[\"Lat\"] < 0]\n",
    "SouthHemi.head()"
   ]
  },
  {
   "cell_type": "markdown",
   "metadata": {},
   "source": [
    "####  Northern Hemisphere - Max Temp vs. Latitude Linear Regression"
   ]
  },
  {
   "cell_type": "code",
   "execution_count": 39,
   "metadata": {},
   "outputs": [
    {
     "data": {
      "image/png": "[encoded data removed]",
      "text/plain": [
       "<Figure size 432x288 with 1 Axes>"
      ]
     },
     "metadata": {
      "needs_background": "light"
     },
     "output_type": "display_data"
    },
    {
     "name": "stdout",
     "output_type": "stream",
     "text": [
      "The Correlation Coefficient between Max Temperature and Latitude is -0.68534\n",
      "The Linear Regression between Max Temperature and Latitude is -0.48909\n"
     ]
    },
    {
     "data": {
      "text/plain": [
       "<Figure size 432x288 with 0 Axes>"
      ]
     },
     "metadata": {},
     "output_type": "display_data"
    }
   ],
   "source": [
    "# Calculate linear regression model for Temperature N. Hemisphere\n",
    "\n",
    "# Calculating slope, intercept, R-Value, P-Value, and Std. Error from Mean\n",
    "temp_slope, temp_int, temp_r, temp_p, temp_std_err = linregress(NorthHemi['Lat'], NorthHemi['Max Temp'])\n",
    "\n",
    "# Calculating Regression line\n",
    "temp_fit = temp_slope * NorthHemi['Lat'] + temp_int\n",
    "\n",
    "# Setting up scatter plot properties\n",
    "plt.scatter(NorthHemi['Lat'], NorthHemi['Max Temp'])\n",
    "\n",
    "# Setting up regression line properties\n",
    "plt.plot(NorthHemi['Lat'], temp_fit, color = 'red')\n",
    "\n",
    "# Setting up x axis and y axis labels\n",
    "plt.ylabel('Maximum Temperature (F)')\n",
    "plt.xlabel('Latitude')\n",
    "\n",
    "# Title of the plot\n",
    "plt.title('Northern Hemisphere: Temperature (F) vs. Latitude')\n",
    "\n",
    "# Adding regression equation to plot\n",
    "lineTEqN = 'y = {0:.2f}x + {1:.2f}'.format(temp_slope, temp_int)\n",
    "plt.annotate(lineTEqN, (0,40), fontsize = 10, color ='red')\n",
    "\n",
    "plt.show()\n",
    "\n",
    "plt.savefig(\"../output_data/Fig1_Temperature_Lat_NHemi.png\")\n",
    "\n",
    "print(f'The Correlation Coefficient between Max Temperature and Latitude is {(round((temp_r), 5))}')\n",
    "print(f'The Linear Regression between Max Temperature and Latitude is {(round((temp_slope), 5))}')"
   ]
  },
  {
   "cell_type": "markdown",
   "metadata": {},
   "source": [
    "####  Southern Hemisphere - Max Temp vs. Latitude Linear Regression"
   ]
  },
  {
   "cell_type": "code",
   "execution_count": 41,
   "metadata": {},
   "outputs": [
    {
     "data": {
      "image/png": "[encoded data removed]",
      "text/plain": [
       "<Figure size 432x288 with 1 Axes>"
      ]
     },
     "metadata": {
      "needs_background": "light"
     },
     "output_type": "display_data"
    },
    {
     "name": "stdout",
     "output_type": "stream",
     "text": [
      "The Correlation Coefficient between Max Temp and Latitude is 0.77622\n",
      "The Linear Regression between Max Temp and Latitude is 0.82736\n"
     ]
    },
    {
     "data": {
      "text/plain": [
       "<Figure size 432x288 with 0 Axes>"
      ]
     },
     "metadata": {},
     "output_type": "display_data"
    }
   ],
   "source": [
    "# Calculate linear regression model for S. Hemisphere\n",
    "\n",
    "# Calculating slope, intercept, R-Value, P-Value, and Std. Error from Mean\n",
    "tempS_slope, tempS_int, tempS_r, tempS_p, tempS_std_err = linregress(SouthHemi['Lat'], SouthHemi['Max Temp'])\n",
    "\n",
    "# Calculating Regression line\n",
    "tempS_fit = tempS_slope * SouthHemi['Lat'] + tempS_int\n",
    "\n",
    "# Setting up scatter plot properties\n",
    "plt.scatter(SouthHemi['Lat'], SouthHemi['Max Temp'])\n",
    "\n",
    "# Setting up regression line properties\n",
    "plt.plot(SouthHemi['Lat'], tempS_fit, color = 'red')\n",
    "\n",
    "# Setting up x axis and y axis labels\n",
    "plt.ylabel('Max Temp (F)')\n",
    "plt.xlabel('Latitude')\n",
    "\n",
    "# Title of the plot\n",
    "plt.title('Southern Hemisphere: Temperature (F) vs. Latitude')\n",
    "\n",
    "# Adding regression equation to plot\n",
    "lineTEqS = 'y = {0:.2f}x + {1:.2f}'.format(tempS_slope, tempS_int)\n",
    "plt.annotate(lineTEqS, (-55,85), fontsize = 10, color ='red')\n",
    "\n",
    "plt.show()\n",
    "\n",
    "plt.savefig(\"../output_data/Fig2_Temperature_Lat_SHemi.png\")\n",
    "\n",
    "print(f'The Correlation Coefficient between Max Temp and Latitude is {(round((tempS_r), 5))}')\n",
    "print(f'The Linear Regression between Max Temp and Latitude is {(round((tempS_slope), 5))}')"
   ]
  },
  {
   "cell_type": "markdown",
   "metadata": {},
   "source": [
    "####  Northern Hemisphere - Humidity (%) vs. Latitude Linear Regression"
   ]
  },
  {
   "cell_type": "code",
   "execution_count": 43,
   "metadata": {},
   "outputs": [
    {
     "data": {
      "image/png": "[encoded data removed]",
      "text/plain": [
       "<Figure size 432x288 with 1 Axes>"
      ]
     },
     "metadata": {
      "needs_background": "light"
     },
     "output_type": "display_data"
    },
    {
     "name": "stdout",
     "output_type": "stream",
     "text": [
      "The Correlation Coefficient between Humidity and Latitude is -0.68534\n",
      "The Linear Regression between Humidity and Latitude is -0.48909\n"
     ]
    },
    {
     "data": {
      "text/plain": [
       "<Figure size 432x288 with 0 Axes>"
      ]
     },
     "metadata": {},
     "output_type": "display_data"
    }
   ],
   "source": [
    "# Calculate linear regression model for Humidity N. Hemisphere\n",
    "\n",
    "# Calculating slope, intercept, R-Value, P-Value, and Std. Error from Mean\n",
    "humidN_slope, humidN_int, humidN_r, humidN_p, humidN_std_err = linregress(NorthHemi['Lat'], NorthHemi['Humidity'])\n",
    "\n",
    "# Calculating Regression line\n",
    "humidN_fit = humidN_slope * NorthHemi['Lat'] + humidN_int\n",
    "\n",
    "# Setting up scatter plot properties\n",
    "plt.scatter(NorthHemi['Lat'], NorthHemi['Humidity'])\n",
    "\n",
    "# Setting up regression line properties\n",
    "plt.plot(NorthHemi['Lat'], humidN_fit, color = 'red')\n",
    "\n",
    "# Setting up x axis and y axis labels\n",
    "plt.ylabel('Humidity (%)')\n",
    "plt.xlabel('Latitude')\n",
    "\n",
    "# Title of the plot\n",
    "plt.title('Northern Hemisphere: Humidity (%) vs. Latitude')\n",
    "\n",
    "# Adding regression equation to plot\n",
    "lineHEqN = 'y = {0:.2f}x + {1:.2f}'.format(humidN_slope, humidN_int)\n",
    "plt.annotate(lineHEqN, (55,20), fontsize = 10, color ='red')\n",
    "\n",
    "plt.show()\n",
    "\n",
    "plt.savefig(\"../output_data/Fig3_Humid_Lat_NHemi.png\")\n",
    "\n",
    "print(f'The Correlation Coefficient between Humidity and Latitude is {(round((temp_r), 5))}')\n",
    "print(f'The Linear Regression between Humidity and Latitude is {(round((temp_slope), 5))}')"
   ]
  },
  {
   "cell_type": "markdown",
   "metadata": {},
   "source": [
    "####  Southern Hemisphere - Humidity (%) vs. Latitude Linear Regression"
   ]
  },
  {
   "cell_type": "code",
   "execution_count": 44,
   "metadata": {},
   "outputs": [
    {
     "data": {
      "image/png": "[encoded data removed]",
      "text/plain": [
       "<Figure size 432x288 with 1 Axes>"
      ]
     },
     "metadata": {
      "needs_background": "light"
     },
     "output_type": "display_data"
    },
    {
     "name": "stdout",
     "output_type": "stream",
     "text": [
      "The Correlation Coefficient between Humidity and Latitude is -0.68534\n",
      "The Linear Regression between Humidity and Latitude is -0.48909\n"
     ]
    },
    {
     "data": {
      "text/plain": [
       "<Figure size 432x288 with 0 Axes>"
      ]
     },
     "metadata": {},
     "output_type": "display_data"
    }
   ],
   "source": [
    "# Calculate linear regression model for Humidity S. Hemisphere\n",
    "\n",
    "# Calculating slope, intercept, R-Value, P-Value, and Std. Error from Mean\n",
    "humidS_slope, humidS_int, humidS_r, humidS_p, humidS_std_err = linregress(SouthHemi['Lat'], SouthHemi['Humidity'])\n",
    "\n",
    "# Calculating Regression line\n",
    "humidS_fit = humidS_slope * SouthHemi['Lat'] + humidS_int\n",
    "\n",
    "# Setting up scatter plot properties\n",
    "plt.scatter(SouthHemi['Lat'], SouthHemi['Humidity'])\n",
    "\n",
    "# Setting up regression line properties\n",
    "plt.plot(SouthHemi['Lat'], humidS_fit, color = 'red')\n",
    "\n",
    "# Setting up x axis and y axis labels\n",
    "plt.ylabel('Humidity (%)')\n",
    "plt.xlabel('Latitude')\n",
    "\n",
    "# Title of the plot\n",
    "plt.title('Southern Hemisphere: Humidity (%) vs. Latitude')\n",
    "\n",
    "# Adding regression equation to plot\n",
    "lineHEqS = 'y = {0:.2f}x + {1:.2f}'.format(humidS_slope, humidS_int)\n",
    "plt.annotate(lineHEqS, (-55,40), fontsize = 10, color ='red')\n",
    "\n",
    "plt.show()\n",
    "\n",
    "plt.savefig(\"../output_data/Fig4_Humid_Lat_SHemi.png\")\n",
    "\n",
    "print(f'The Correlation Coefficient between Humidity and Latitude is {(round((temp_r), 5))}')\n",
    "print(f'The Linear Regression between Humidity and Latitude is {(round((temp_slope), 5))}')"
   ]
  },
  {
   "cell_type": "markdown",
   "metadata": {},
   "source": [
    "####  Northern Hemisphere - Cloudiness (%) vs. Latitude Linear Regression"
   ]
  },
  {
   "cell_type": "code",
   "execution_count": 48,
   "metadata": {},
   "outputs": [
    {
     "data": {
      "image/png": "[encoded data removed]",
      "text/plain": [
       "<Figure size 432x288 with 1 Axes>"
      ]
     },
     "metadata": {
      "needs_background": "light"
     },
     "output_type": "display_data"
    },
    {
     "name": "stdout",
     "output_type": "stream",
     "text": [
      "The Correlation Coefficient between Cloudiness and Latitude is -0.68534\n",
      "The Linear Regression between Cloudiness and Latitude is -0.48909\n"
     ]
    },
    {
     "data": {
      "text/plain": [
       "<Figure size 432x288 with 0 Axes>"
      ]
     },
     "metadata": {},
     "output_type": "display_data"
    }
   ],
   "source": [
    "# Calculate linear regression model for Cloudiness N. Hemisphere\n",
    "\n",
    "# Calculating slope, intercept, R-Value, P-Value, and Std. Error from Mean\n",
    "cloudN_slope, cloudN_int, cloudN_r, cloudN_p, cloudN_std_err = linregress(NorthHemi['Lat'], NorthHemi['Cloudiness'])\n",
    "\n",
    "# Calculating Regression line\n",
    "cloudN_fit = cloudN_slope * NorthHemi['Lat'] + cloudN_int\n",
    "\n",
    "# Setting up scatter plot properties\n",
    "plt.scatter(NorthHemi['Lat'], NorthHemi['Cloudiness'])\n",
    "\n",
    "# Setting up regression line properties\n",
    "plt.plot(NorthHemi['Lat'], cloudN_fit, color = 'red')\n",
    "\n",
    "# Setting up x axis and y axis labels\n",
    "plt.ylabel('Cloudiness (%)')\n",
    "plt.xlabel('Latitude')\n",
    "\n",
    "# Title of the plot\n",
    "plt.title('Northern Hemisphere: Cloudiness (%) vs. Latitude')\n",
    "\n",
    "# Adding regression equation to plot\n",
    "lineCEqN = 'y = {0:.2f}x + {1:.2f}'.format(cloudN_slope, cloudN_int)\n",
    "plt.annotate(lineCEqN, (-1,25), fontsize = 10, color ='red')\n",
    "\n",
    "plt.show()\n",
    "\n",
    "plt.savefig(\"../output_data/Fig5_Cloud_Lat_NHemi.png\")\n",
    "\n",
    "print(f'The Correlation Coefficient between Cloudiness and Latitude is {(round((temp_r), 5))}')\n",
    "print(f'The Linear Regression between Cloudiness and Latitude is {(round((temp_slope), 5))}')"
   ]
  },
  {
   "cell_type": "markdown",
   "metadata": {},
   "source": [
    "####  Southern Hemisphere - Cloudiness (%) vs. Latitude Linear Regression"
   ]
  },
  {
   "cell_type": "code",
   "execution_count": 49,
   "metadata": {},
   "outputs": [
    {
     "data": {
      "image/png": "[encoded data removed]",
      "text/plain": [
       "<Figure size 432x288 with 1 Axes>"
      ]
     },
     "metadata": {
      "needs_background": "light"
     },
     "output_type": "display_data"
    },
    {
     "name": "stdout",
     "output_type": "stream",
     "text": [
      "The Correlation Coefficient between Cloudiness and Latitude is -0.68534\n",
      "The Linear Regression between Cloudiness and Latitude is -0.48909\n"
     ]
    },
    {
     "data": {
      "text/plain": [
       "<Figure size 432x288 with 0 Axes>"
      ]
     },
     "metadata": {},
     "output_type": "display_data"
    }
   ],
   "source": [
    "# Calculate linear regression model for Cloudiness S. Hemisphere\n",
    "\n",
    "# Calculating slope, intercept, R-Value, P-Value, and Std. Error from Mean\n",
    "cloudS_slope, cloudS_int, cloudS_r, cloudS_p, cloudS_std_err = linregress(SouthHemi['Lat'], SouthHemi['Cloudiness'])\n",
    "\n",
    "# Calculating Regression line\n",
    "cloudS_fit = cloudS_slope * SouthHemi['Lat'] + cloudS_int\n",
    "\n",
    "# Setting up scatter plot properties\n",
    "plt.scatter(SouthHemi['Lat'], SouthHemi['Cloudiness'])\n",
    "\n",
    "# Setting up regression line properties\n",
    "plt.plot(SouthHemi['Lat'], cloudS_fit, color = 'red')\n",
    "\n",
    "# Setting up x axis and y axis labels\n",
    "plt.ylabel('Cloudiness (%)')\n",
    "plt.xlabel('Latitude')\n",
    "\n",
    "# Title of the plot\n",
    "plt.title('Southern Hemisphere: Cloudiness (%) vs. Latitude')\n",
    "\n",
    "# Adding regression equation to plot\n",
    "lineCEqS = 'y = {0:.2f}x + {1:.2f}'.format(cloudS_slope, cloudS_int)\n",
    "plt.annotate(lineCEqS, (-55, 39), fontsize = 10, color ='red')\n",
    "\n",
    "plt.show()\n",
    "\n",
    "plt.savefig(\"../output_data/Fig6_Cloud_Lat_SHemi.png\")\n",
    "\n",
    "print(f'The Correlation Coefficient between Cloudiness and Latitude is {(round((temp_r), 5))}')\n",
    "print(f'The Linear Regression between Cloudiness and Latitude is {(round((temp_slope), 5))}')"
   ]
  },
  {
   "cell_type": "markdown",
   "metadata": {},
   "source": [
    "####  Northern Hemisphere - Wind Speed (mph) vs. Latitude Linear Regression"
   ]
  },
  {
   "cell_type": "code",
   "execution_count": 50,
   "metadata": {},
   "outputs": [
    {
     "data": {
      "image/png": "[encoded data removed]",
      "text/plain": [
       "<Figure size 432x288 with 1 Axes>"
      ]
     },
     "metadata": {
      "needs_background": "light"
     },
     "output_type": "display_data"
    },
    {
     "name": "stdout",
     "output_type": "stream",
     "text": [
      "The Correlation Coefficient between Wind Speed and Latitude is -0.68534\n",
      "The Linear Regression between Wind Speed and Latitude is -0.48909\n"
     ]
    },
    {
     "data": {
      "text/plain": [
       "<Figure size 432x288 with 0 Axes>"
      ]
     },
     "metadata": {},
     "output_type": "display_data"
    }
   ],
   "source": [
    "# Calculate linear regression model for Wind Speed N. Hemisphere\n",
    "\n",
    "# Calculating slope, intercept, R-Value, P-Value, and Std. Error from Mean\n",
    "windN_slope, windN_int, windN_r, windN_p, windN_std_err = linregress(NorthHemi['Lat'], NorthHemi['Wind Speed'])\n",
    "\n",
    "# Calculating Regression line\n",
    "windN_fit = windN_slope * NorthHemi['Lat'] + windN_int\n",
    "\n",
    "# Setting up scatter plot properties\n",
    "plt.scatter(NorthHemi['Lat'], NorthHemi['Wind Speed'])\n",
    "\n",
    "# Setting up regression line properties\n",
    "plt.plot(NorthHemi['Lat'], windN_fit, color = 'red')\n",
    "\n",
    "# Setting up x axis and y axis labels\n",
    "plt.ylabel('Wind Speed (mph)')\n",
    "plt.xlabel('Latitude')\n",
    "\n",
    "# Title of the plot\n",
    "plt.title('Northern Hemisphere: Wind Speed (mph) vs. Latitude')\n",
    "\n",
    "# Adding regression equation to plot\n",
    "lineWEqN = 'y = {0:.2f}x + {1:.2f}'.format(windN_slope, windN_int)\n",
    "plt.annotate(lineWEqN, (25, 32), fontsize = 10, color ='red')\n",
    "\n",
    "plt.show()\n",
    "\n",
    "plt.savefig(\"../output_data/Fig7_Wind_Lat_NHemi.png\")\n",
    "\n",
    "print(f'The Correlation Coefficient between Wind Speed and Latitude is {(round((temp_r), 5))}')\n",
    "print(f'The Linear Regression between Wind Speed and Latitude is {(round((temp_slope), 5))}')"
   ]
  },
  {
   "cell_type": "markdown",
   "metadata": {},
   "source": [
    "####  Southern Hemisphere - Wind Speed (mph) vs. Latitude Linear Regression"
   ]
  },
  {
   "cell_type": "code",
   "execution_count": 51,
   "metadata": {},
   "outputs": [
    {
     "data": {
      "image/png": "[encoded data removed]",
      "text/plain": [
       "<Figure size 432x288 with 1 Axes>"
      ]
     },
     "metadata": {
      "needs_background": "light"
     },
     "output_type": "display_data"
    },
    {
     "name": "stdout",
     "output_type": "stream",
     "text": [
      "The Correlation Coefficient between Wind Speed and Latitude is -0.68534\n",
      "The Linear Regression between Wind Speed and Latitude is -0.48909\n"
     ]
    },
    {
     "data": {
      "text/plain": [
       "<Figure size 432x288 with 0 Axes>"
      ]
     },
     "metadata": {},
     "output_type": "display_data"
    }
   ],
   "source": [
    "# Calculate linear regression model for Wind Speed S. Hemisphere\n",
    "\n",
    "# Calculating slope, intercept, R-Value, P-Value, and Std. Error from Mean\n",
    "windS_slope, windS_int, windS_r, windS_p, windS_std_err = linregress(SouthHemi['Lat'], SouthHemi['Wind Speed'])\n",
    "\n",
    "# Calculating Regression line\n",
    "windS_fit = windS_slope * SouthHemi['Lat'] + windS_int\n",
    "\n",
    "# Setting up scatter plot properties\n",
    "plt.scatter(SouthHemi['Lat'], SouthHemi['Wind Speed'])\n",
    "\n",
    "# Setting up regression line properties\n",
    "plt.plot(SouthHemi['Lat'], windS_fit, color = 'red')\n",
    "\n",
    "# Setting up x axis and y axis labels\n",
    "plt.ylabel('Wind Speed (mph)')\n",
    "plt.xlabel('Latitude')\n",
    "\n",
    "# Title of the plot\n",
    "plt.title('Southern Hemisphere: Wind Speed (mph) vs. Latitude')\n",
    "\n",
    "# Adding regression equation to plot\n",
    "lineWEqS = 'y = {0:.2f}x + {1:.2f}'.format(windS_slope, windS_int)\n",
    "plt.annotate(lineWEqS, (-55, 20), fontsize = 10, color ='red')\n",
    "\n",
    "plt.show()\n",
    "\n",
    "plt.savefig(\"../output_data/Fig8_Wind_Lat_SHemi.png\")\n",
    "\n",
    "print(f'The Correlation Coefficient between Wind Speed and Latitude is {(round((temp_r), 5))}')\n",
    "print(f'The Linear Regression between Wind Speed and Latitude is {(round((temp_slope), 5))}')"
   ]
  },
  {
   "cell_type": "code",
   "execution_count": null,
   "metadata": {},
   "outputs": [],
   "source": []
  },
  {
   "cell_type": "code",
   "execution_count": null,
   "metadata": {},
   "outputs": [],
   "source": []
  }
 ],
 "metadata": {
  "anaconda-cloud": {},
  "kernel_info": {
   "name": "python3"
  },
  "kernelspec": {
   "display_name": "Python 3",
   "language": "python",
   "name": "python3"
  },
  "language_info": {
   "codemirror_mode": {
    "name": "ipython",
    "version": 3
   },
   "file_extension": ".py",
   "mimetype": "text/x-python",
   "name": "python",
   "nbconvert_exporter": "python",
   "pygments_lexer": "ipython3",
   "version": "3.8.5"
  },
  "latex_envs": {
   "LaTeX_envs_menu_present": true,
   "autoclose": false,
   "autocomplete": true,
   "bibliofile": "biblio.bib",
   "cite_by": "apalike",
   "current_citInitial": 1,
   "eqLabelWithNumbers": true,
   "eqNumInitial": 1,
   "hotkeys": {
    "equation": "Ctrl-E",
    "itemize": "Ctrl-I"
   },
   "labels_anchors": false,
   "latex_user_defs": false,
   "report_style_numbering": false,
   "user_envs_cfg": false
  },
  "nteract": {
   "version": "0.12.3"
  }
 },
 "nbformat": 4,
 "nbformat_minor": 2
}
